{
 "cells": [
  {
   "cell_type": "code",
   "execution_count": 1,
   "metadata": {},
   "outputs": [],
   "source": [
    "from gilbert_elliot_model import simulate\n",
    "import numpy as np\n",
    "\n",
    "rseeds = [20, 25, 4, 28]\n",
    "probs = {\n",
    "    \"case-1\": [1e-4, 0.1],\n",
    "    \"case-2\": [0.02, 0.25],\n",
    "    \"case-3\": [4e-4, 0.6],\n",
    "}"
   ]
  },
  {
   "cell_type": "code",
   "execution_count": null,
   "metadata": {},
   "outputs": [],
   "source": [
    "for rseed in rseeds:\n",
    "    for case, prob in probs.items():\n",
    "        losses = simulate(params={'p': prob[0], 'r': prob[1]}, n_obs=100000, seed=rseed)\n",
    "        np.savetxt(f\"outputs/losses_{case}_{rseed}.loss\", losses, delimiter=\" \", newline=\" \", fmt=\"%d\")"
   ]
  }
 ],
 "metadata": {
  "kernelspec": {
   "display_name": "Python 3",
   "language": "python",
   "name": "python3"
  },
  "language_info": {
   "codemirror_mode": {
    "name": "ipython",
    "version": 3
   },
   "file_extension": ".py",
   "mimetype": "text/x-python",
   "name": "python",
   "nbconvert_exporter": "python",
   "pygments_lexer": "ipython3",
   "version": "3.12.7"
  }
 },
 "nbformat": 4,
 "nbformat_minor": 2
}
